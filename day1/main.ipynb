{
 "cells": [
  {
   "cell_type": "code",
   "execution_count": 1,
   "metadata": {},
   "outputs": [
    {
     "name": "stdout",
     "output_type": "stream",
     "text": [
      "hello \n"
     ]
    }
   ],
   "source": [
    "print(\"hello \")"
   ]
  },
  {
   "cell_type": "code",
   "execution_count": 11,
   "metadata": {},
   "outputs": [
    {
     "name": "stdout",
     "output_type": "stream",
     "text": [
      "70369\n"
     ]
    }
   ],
   "source": [
    "eleves = []\n",
    "with open('data.txt') as file:\n",
    "    lines = file.readlines()\n",
    "    # print(lines)\n",
    "    # Lets loop through the lines and see if there any newlines\n",
    "    # and with them create new elves\n",
    "\n",
    "    currentSupply = 0\n",
    "    for row in lines:\n",
    "        if row == \"\\n\": # now we have found the end of one elves supply\n",
    "            eleves.append(currentSupply)\n",
    "            currentSupply = 0\n",
    "        else:           # else we add to the current supply\n",
    "            currentSupply = currentSupply + int(row)\n",
    "    \n",
    "    # print(eleves)\n",
    "print(max(eleves))\n",
    "\n",
    "#Note: i added 2 newlines to the end of the files to not have to make an exeption for the last eleves\n",
    "\n"
   ]
  },
  {
   "cell_type": "code",
   "execution_count": 5,
   "metadata": {},
   "outputs": [
    {
     "name": "stdout",
     "output_type": "stream",
     "text": [
      "100\n"
     ]
    }
   ],
   "source": [
    "print(int(\"100\\n\")) # i did not know that this => 100  "
   ]
  },
  {
   "cell_type": "code",
   "execution_count": null,
   "metadata": {},
   "outputs": [],
   "source": []
  }
 ],
 "metadata": {
  "kernelspec": {
   "display_name": "Python 3.9.7 ('base')",
   "language": "python",
   "name": "python3"
  },
  "language_info": {
   "codemirror_mode": {
    "name": "ipython",
    "version": 3
   },
   "file_extension": ".py",
   "mimetype": "text/x-python",
   "name": "python",
   "nbconvert_exporter": "python",
   "pygments_lexer": "ipython3",
   "version": "3.9.7"
  },
  "orig_nbformat": 4,
  "vscode": {
   "interpreter": {
    "hash": "03f27f65b4b7249ad25efe93911abe09b3ef61e135f40bc0b2a823c01def5916"
   }
  }
 },
 "nbformat": 4,
 "nbformat_minor": 2
}
