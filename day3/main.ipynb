{
 "cells": [
  {
   "cell_type": "markdown",
   "metadata": {},
   "source": [
    "#### Part 1"
   ]
  },
  {
   "cell_type": "code",
   "execution_count": 12,
   "metadata": {},
   "outputs": [
    {
     "name": "stdout",
     "output_type": "stream",
     "text": [
      "lenght: 24 of vJrwpWtwJgWrhcsFMMfFFhFp\n",
      "12\n",
      "vJrwpWtwJgWr  |  hcsFMMfFFhFp\n",
      "lenght: 32 of jqHRNqRjqzjGDLGLrsFMfFZSrLrFZsSL\n",
      "16\n",
      "jqHRNqRjqzjGDLGL  |  rsFMfFZSrLrFZsSL\n",
      "lenght: 18 of PmmdzqPrVvPwwTWBwg\n",
      "9\n",
      "PmmdzqPrV  |  vPwwTWBwg\n",
      "lenght: 30 of wMqvLMZHhHMvwLHjbvcjnnSBnvTQFn\n",
      "15\n",
      "wMqvLMZHhHMvwLH  |  jbvcjnnSBnvTQFn\n",
      "lenght: 16 of ttgJtRGJQctTZtZT\n",
      "8\n",
      "ttgJtRGJ  |  QctTZtZT\n",
      "lenght: 24 of CrZsJsPPZsGzwwsLwLmpwMDw\n",
      "12\n",
      "CrZsJsPPZsGz  |  wwsLwLmpwMDw\n"
     ]
    }
   ],
   "source": [
    "with open('smalldata.txt') as file:\n",
    "    lines = file.readlines()\n",
    "    data = [line.strip(\"\\n\") for line in lines]\n",
    "    # print(data)\n",
    "\n",
    "    letters = \"\"\n",
    "    duplications = []\n",
    "    for word in data:\n",
    "        print(\"lenght:\", len(word), \"of\", word)\n",
    "        # TODO: split the word in two instead and loop somehow...\n",
    "        if len(word) % 2 != 0:\n",
    "            print(\"ERROR\")\n",
    "        \n",
    "        print(int(len(word)/2))\n",
    "        firstHalf = word[:int(len(word)/2)]\n",
    "        secondHalf = word[int(len(word)/2):]\n",
    "\n",
    "        print(firstHalf, \" | \", secondHalf)\n",
    "\n",
    "        # for letter in word:\n",
    "        #     if letters.__contains__(letter):\n",
    "        #         duplications.append(letter)\n",
    "        #         print(\"duplication : \", letter)\n",
    "\n",
    "        #     letters += letter\n",
    "\n"
   ]
  },
  {
   "cell_type": "code",
   "execution_count": null,
   "metadata": {},
   "outputs": [],
   "source": []
  },
  {
   "cell_type": "code",
   "execution_count": null,
   "metadata": {},
   "outputs": [],
   "source": []
  }
 ],
 "metadata": {
  "kernelspec": {
   "display_name": "Python 3.9.7 ('base')",
   "language": "python",
   "name": "python3"
  },
  "language_info": {
   "codemirror_mode": {
    "name": "ipython",
    "version": 3
   },
   "file_extension": ".py",
   "mimetype": "text/x-python",
   "name": "python",
   "nbconvert_exporter": "python",
   "pygments_lexer": "ipython3",
   "version": "3.9.7"
  },
  "orig_nbformat": 4,
  "vscode": {
   "interpreter": {
    "hash": "03f27f65b4b7249ad25efe93911abe09b3ef61e135f40bc0b2a823c01def5916"
   }
  }
 },
 "nbformat": 4,
 "nbformat_minor": 2
}
