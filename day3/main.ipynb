{
 "cells": [
  {
   "cell_type": "markdown",
   "metadata": {},
   "source": [
    "#### Part 1"
   ]
  },
  {
   "cell_type": "code",
   "execution_count": 30,
   "metadata": {},
   "outputs": [
    {
     "name": "stdout",
     "output_type": "stream",
     "text": [
      "Total duplicates:  300  values:  8252\n"
     ]
    }
   ],
   "source": [
    "PRIOLIST = ['a','b','c','d','e','f','g','h','i','j','k','l','m','n','o','p','q','r','s','t','u','v','w','x','y','z', \n",
    "            'A','B','C','D','E','F','G','H','I','J','K','L','M','N','O','P','Q','R','S','T','U','V','W','X','Y','Z']\n",
    "\n",
    "def getPriorityValue(char):\n",
    "    return PRIOLIST.index(char)+1\n",
    "\n",
    "with open('data.txt') as file:\n",
    "    lines = file.readlines()\n",
    "    data = [line.strip(\"\\n\") for line in lines]\n",
    "    # print(data)\n",
    "\n",
    "    letters = \"\"\n",
    "    duplications = []\n",
    "    for word in data:\n",
    "        # Just a check to make sure the word is splittable by half\n",
    "        if len(word) % 2 != 0:\n",
    "            print(\"ERROR\")\n",
    "        \n",
    "        firstHalf = word[:int(len(word)/2)]\n",
    "        secondHalf = word[int(len(word)/2):]\n",
    "\n",
    "        # Set some known letters, aka first half, to a string\n",
    "        letters = firstHalf\n",
    "\n",
    "        # Loop second half of the word to find duplicates \n",
    "        for letter in \"\".join(set(secondHalf)):\n",
    "            if letters.__contains__(letter):\n",
    "                duplications.append(letter)\n",
    "                # print(\"duplication : \", letter)\n",
    "    \n",
    "    priorityValue = 0\n",
    "    for letter in duplications:\n",
    "        priorityValue += getPriorityValue(letter)\n",
    "\n",
    "    print(\"Total duplicates: \", len(duplications), \" values: \", priorityValue)\n",
    "    \n"
   ]
  },
  {
   "cell_type": "markdown",
   "metadata": {},
   "source": [
    "## Part 2"
   ]
  },
  {
   "cell_type": "markdown",
   "metadata": {},
   "source": []
  }
 ],
 "metadata": {
  "kernelspec": {
   "display_name": "Python 3.9.7 ('base')",
   "language": "python",
   "name": "python3"
  },
  "language_info": {
   "codemirror_mode": {
    "name": "ipython",
    "version": 3
   },
   "file_extension": ".py",
   "mimetype": "text/x-python",
   "name": "python",
   "nbconvert_exporter": "python",
   "pygments_lexer": "ipython3",
   "version": "3.9.7"
  },
  "orig_nbformat": 4,
  "vscode": {
   "interpreter": {
    "hash": "03f27f65b4b7249ad25efe93911abe09b3ef61e135f40bc0b2a823c01def5916"
   }
  }
 },
 "nbformat": 4,
 "nbformat_minor": 2
}
