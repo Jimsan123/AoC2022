{
 "cells": [
  {
   "cell_type": "markdown",
   "metadata": {},
   "source": [
    "### Folder creator for each day\n",
    "This script will create a folder called dayX, where X is the number of existing dayx folders + 1\n",
    "assuming that their name start with 'day'... "
   ]
  },
  {
   "cell_type": "code",
   "execution_count": 22,
   "metadata": {},
   "outputs": [],
   "source": [
    "import os\n",
    "\n",
    "dirs = os.listdir()\n",
    "\n",
    "days = 0\n",
    "for dir in dirs:\n",
    "    if dir.startswith('day'):\n",
    "        days += 1\n",
    "\n",
    "newDay = f\"day{days+1}\"\n",
    "\n",
    "os.makedirs(newDay)\n",
    "\n",
    "open(os.path.join(newDay, \"data.txt\"),'x').close()\n",
    "open(os.path.join(newDay, \"smalldata.txt\"),'x').close()\n",
    "open(os.path.join(newDay, \"main.ipynb\"),'x').close()\n"
   ]
  },
  {
   "cell_type": "code",
   "execution_count": null,
   "metadata": {},
   "outputs": [],
   "source": []
  }
 ],
 "metadata": {
  "kernelspec": {
   "display_name": "Python 3.9.7 ('base')",
   "language": "python",
   "name": "python3"
  },
  "language_info": {
   "codemirror_mode": {
    "name": "ipython",
    "version": 3
   },
   "file_extension": ".py",
   "mimetype": "text/x-python",
   "name": "python",
   "nbconvert_exporter": "python",
   "pygments_lexer": "ipython3",
   "version": "3.9.7"
  },
  "orig_nbformat": 4,
  "vscode": {
   "interpreter": {
    "hash": "03f27f65b4b7249ad25efe93911abe09b3ef61e135f40bc0b2a823c01def5916"
   }
  }
 },
 "nbformat": 4,
 "nbformat_minor": 2
}
