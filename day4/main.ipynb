{
 "cells": [
  {
   "cell_type": "markdown",
   "metadata": {},
   "source": [
    "#### Part 1"
   ]
  },
  {
   "cell_type": "code",
   "execution_count": 41,
   "metadata": {},
   "outputs": [
    {
     "name": "stdout",
     "output_type": "stream",
     "text": [
      "contain:  530\n"
     ]
    }
   ],
   "source": [
    "with open('data.txt') as file:\n",
    "    lines = file.readlines()\n",
    "    data = [line.strip(\"\\n\") for line in lines]\n",
    "    # print(data)\n",
    "\n",
    "    contain = 0\n",
    "\n",
    "    data = [data.split(\",\") for data in data]\n",
    "    \n",
    "    for pair in data:\n",
    "        elfX_0, elfX_1 = pair[0].split(\"-\")\n",
    "        elfY_0, elfY_1 = pair[1].split(\"-\")                 \n",
    "        \n",
    "        if int(elfX_0) <= int(elfY_0) and int(elfX_1) >= int(elfY_1):\n",
    "            # elfY is contained in elfX\n",
    "            # print(elfX_0, \"<=\", elfY_0, \"and\", elfX_1, \">=\", elfY_1)\n",
    "            contain += 1\n",
    "        elif int(elfX_0) >= int(elfY_0) and int(elfX_1) <= int(elfY_1):\n",
    "            # elfX is contained in elfY\n",
    "            # print(elfX_0, \">=\", elfY_0, \"and\", elfX_1, \"<=\", elfY_1)\n",
    "            contain += 1\n",
    "\n",
    "    print(\"contain: \", contain)"
   ]
  },
  {
   "cell_type": "markdown",
   "metadata": {},
   "source": [
    "#### Part 2"
   ]
  },
  {
   "cell_type": "code",
   "execution_count": 40,
   "metadata": {},
   "outputs": [
    {
     "name": "stdout",
     "output_type": "stream",
     "text": [
      "contain:  903\n"
     ]
    }
   ],
   "source": [
    "with open('data.txt') as file:\n",
    "    lines = file.readlines()\n",
    "    data = [line.strip(\"\\n\") for line in lines]\n",
    "    # print(data)\n",
    "\n",
    "    contain = 0\n",
    "\n",
    "    data = [data.split(\",\") for data in data]\n",
    "    \n",
    "    for pair in data:\n",
    "        elfX_0, elfX_1 = pair[0].split(\"-\")\n",
    "        elfY_0, elfY_1 = pair[1].split(\"-\")                 \n",
    "        \n",
    "        done = False\n",
    "\n",
    "        # print(\"the pair:\", pair)\n",
    "        for i in range(int(elfX_0),int(elfX_1)+1):\n",
    "            for j in range(int(elfY_0),int(elfY_1)+1):\n",
    "                if (i == j) and done == False:\n",
    "                    # print (i, \"==\", j)\n",
    "                    contain += 1\n",
    "                    done = True\n",
    "\n",
    "    print(\"contain: \", contain)"
   ]
  },
  {
   "cell_type": "code",
   "execution_count": null,
   "metadata": {},
   "outputs": [],
   "source": []
  }
 ],
 "metadata": {
  "kernelspec": {
   "display_name": "Python 3.9.7 ('base')",
   "language": "python",
   "name": "python3"
  },
  "language_info": {
   "codemirror_mode": {
    "name": "ipython",
    "version": 3
   },
   "file_extension": ".py",
   "mimetype": "text/x-python",
   "name": "python",
   "nbconvert_exporter": "python",
   "pygments_lexer": "ipython3",
   "version": "3.9.7"
  },
  "orig_nbformat": 4,
  "vscode": {
   "interpreter": {
    "hash": "03f27f65b4b7249ad25efe93911abe09b3ef61e135f40bc0b2a823c01def5916"
   }
  }
 },
 "nbformat": 4,
 "nbformat_minor": 2
}
