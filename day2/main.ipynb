{
 "cells": [
  {
   "cell_type": "markdown",
   "metadata": {},
   "source": [
    "## Part 1"
   ]
  },
  {
   "cell_type": "code",
   "execution_count": 6,
   "metadata": {},
   "outputs": [
    {
     "name": "stdout",
     "output_type": "stream",
     "text": [
      "['A Y', 'B X', 'C Z']\n"
     ]
    }
   ],
   "source": [
    "def battle(opponentRoll, myRoll):\n",
    "    if myRoll == \"X\": # rock\n",
    "        if opponentRoll == \"A\":\n",
    "        if opponentRoll == \"B\":\n",
    "        if opponentRoll == \"C\":\n",
    "    if myRoll == \"Y\": # paper\n",
    "        if opponentRoll == \"A\":\n",
    "        if opponentRoll == \"B\":\n",
    "        if opponentRoll == \"C\":\n",
    "    if myRoll == \"Z\": # scissor\n",
    "        if opponentRoll == \"A\":\n",
    "        if opponentRoll == \"B\":\n",
    "        if opponentRoll == \"C\":\n",
    "\n",
    "\n",
    "with open('smalldata.txt') as file:\n",
    "    lines = file.readlines()\n",
    "    data = [line.strip(\"\\n\") for line in lines]\n",
    "    print(data)\n",
    "\n",
    "\n"
   ]
  },
  {
   "cell_type": "code",
   "execution_count": null,
   "metadata": {},
   "outputs": [],
   "source": []
  }
 ],
 "metadata": {
  "kernelspec": {
   "display_name": "Python 3.9.7 ('base')",
   "language": "python",
   "name": "python3"
  },
  "language_info": {
   "codemirror_mode": {
    "name": "ipython",
    "version": 3
   },
   "file_extension": ".py",
   "mimetype": "text/x-python",
   "name": "python",
   "nbconvert_exporter": "python",
   "pygments_lexer": "ipython3",
   "version": "3.9.7"
  },
  "orig_nbformat": 4,
  "vscode": {
   "interpreter": {
    "hash": "03f27f65b4b7249ad25efe93911abe09b3ef61e135f40bc0b2a823c01def5916"
   }
  }
 },
 "nbformat": 4,
 "nbformat_minor": 2
}
